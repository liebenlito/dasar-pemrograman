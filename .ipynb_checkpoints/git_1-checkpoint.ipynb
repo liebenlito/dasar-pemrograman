{
 "cells": [
  {
   "cell_type": "code",
   "execution_count": 1,
   "id": "0c4fbf55-cf60-41ba-835d-5de5a75310db",
   "metadata": {},
   "outputs": [
    {
     "name": "stdout",
     "output_type": "stream",
     "text": [
      "ini git\n"
     ]
    }
   ],
   "source": [
    "print(\"ini git\")"
   ]
  },
  {
   "cell_type": "code",
   "execution_count": 4,
   "id": "18b90758-788f-4180-a8d4-ce8bd3d6a272",
   "metadata": {},
   "outputs": [
    {
     "name": "stdout",
     "output_type": "stream",
     "text": [
      "1\n",
      "2\n",
      "3\n",
      "4\n",
      "5\n"
     ]
    }
   ],
   "source": [
    "for i in range(5):\n",
    "    print(i+1)"
   ]
  },
  {
   "cell_type": "code",
   "execution_count": null,
   "id": "6ba90e59-2b33-4bdc-b64c-b749ad673c4b",
   "metadata": {},
   "outputs": [],
   "source": []
  }
 ],
 "metadata": {
  "kernelspec": {
   "display_name": "Python 3 (ipykernel)",
   "language": "python",
   "name": "python3"
  },
  "language_info": {
   "codemirror_mode": {
    "name": "ipython",
    "version": 3
   },
   "file_extension": ".py",
   "mimetype": "text/x-python",
   "name": "python",
   "nbconvert_exporter": "python",
   "pygments_lexer": "ipython3",
   "version": "3.11.6"
  }
 },
 "nbformat": 4,
 "nbformat_minor": 5
}
