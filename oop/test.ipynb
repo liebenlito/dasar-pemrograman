{
 "cells": [
  {
   "cell_type": "code",
   "execution_count": 3,
   "id": "143225d5-538f-4020-85bb-e9cb39a07a6a",
   "metadata": {},
   "outputs": [],
   "source": [
    "from creditcard import CreditCard"
   ]
  },
  {
   "cell_type": "code",
   "execution_count": 8,
   "id": "015ddde1-75c1-412b-9e10-a1abedbc7eb1",
   "metadata": {},
   "outputs": [],
   "source": [
    "cc = creditcard.CreditCard(\n",
    "    'Abdul',\n",
    "    'Bank BNI',\n",
    "    '1111 5555 3333 2222',\n",
    "    10_000_000\n",
    ")"
   ]
  },
  {
   "cell_type": "code",
   "execution_count": 10,
   "id": "a8cd15d9-2783-4f16-80d3-dd4278abf5c1",
   "metadata": {},
   "outputs": [
    {
     "data": {
      "text/plain": [
       "0"
      ]
     },
     "execution_count": 10,
     "metadata": {},
     "output_type": "execute_result"
    }
   ],
   "source": [
    "cc.get_balance()"
   ]
  },
  {
   "cell_type": "code",
   "execution_count": 12,
   "id": "6b8bd3e4-097f-49fa-94cb-12cc00319c10",
   "metadata": {},
   "outputs": [
    {
     "data": {
      "text/plain": [
       "{'_customer': 'Abdul',\n",
       " '_bank': 'Bank BNI',\n",
       " '_akun': '1111 5555 3333 2222',\n",
       " '_limit': 10000000,\n",
       " '_balance': 0}"
      ]
     },
     "execution_count": 12,
     "metadata": {},
     "output_type": "execute_result"
    }
   ],
   "source": [
    "cc.__dict__"
   ]
  },
  {
   "cell_type": "code",
   "execution_count": 13,
   "id": "401ea56d-fd8d-45a5-b524-1b01e3743afd",
   "metadata": {},
   "outputs": [],
   "source": [
    "cc._customer = \"Saleh\""
   ]
  },
  {
   "cell_type": "code",
   "execution_count": 14,
   "id": "4d516ed0-494e-4411-a6be-c9fa5be54d84",
   "metadata": {},
   "outputs": [
    {
     "data": {
      "text/plain": [
       "{'_customer': 'Saleh',\n",
       " '_bank': 'Bank BNI',\n",
       " '_akun': '1111 5555 3333 2222',\n",
       " '_limit': 10000000,\n",
       " '_balance': 0}"
      ]
     },
     "execution_count": 14,
     "metadata": {},
     "output_type": "execute_result"
    }
   ],
   "source": [
    "cc.__dict__"
   ]
  },
  {
   "cell_type": "code",
   "execution_count": null,
   "id": "c9c9016c-ef28-4cd3-ace2-57f3666c2b42",
   "metadata": {},
   "outputs": [],
   "source": []
  }
 ],
 "metadata": {
  "kernelspec": {
   "display_name": "Python 3 (ipykernel)",
   "language": "python",
   "name": "python3"
  },
  "language_info": {
   "codemirror_mode": {
    "name": "ipython",
    "version": 3
   },
   "file_extension": ".py",
   "mimetype": "text/x-python",
   "name": "python",
   "nbconvert_exporter": "python",
   "pygments_lexer": "ipython3",
   "version": "3.9.16"
  }
 },
 "nbformat": 4,
 "nbformat_minor": 5
}
